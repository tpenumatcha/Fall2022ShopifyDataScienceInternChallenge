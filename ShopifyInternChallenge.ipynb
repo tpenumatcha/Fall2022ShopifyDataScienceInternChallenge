{
 "cells": [
  {
   "cell_type": "code",
   "execution_count": 1,
   "metadata": {},
   "outputs": [],
   "source": [
    "import numpy as np\n",
    "import pandas as pd\n",
    "import matplotlib.pyplot as plt"
   ]
  },
  {
   "cell_type": "code",
   "execution_count": 2,
   "metadata": {},
   "outputs": [
    {
     "data": {
      "text/html": [
       "<div>\n",
       "<style scoped>\n",
       "    .dataframe tbody tr th:only-of-type {\n",
       "        vertical-align: middle;\n",
       "    }\n",
       "\n",
       "    .dataframe tbody tr th {\n",
       "        vertical-align: top;\n",
       "    }\n",
       "\n",
       "    .dataframe thead th {\n",
       "        text-align: right;\n",
       "    }\n",
       "</style>\n",
       "<table border=\"1\" class=\"dataframe\">\n",
       "  <thead>\n",
       "    <tr style=\"text-align: right;\">\n",
       "      <th></th>\n",
       "      <th>order_id</th>\n",
       "      <th>shop_id</th>\n",
       "      <th>user_id</th>\n",
       "      <th>order_amount</th>\n",
       "      <th>total_items</th>\n",
       "      <th>payment_method</th>\n",
       "      <th>created_at</th>\n",
       "    </tr>\n",
       "  </thead>\n",
       "  <tbody>\n",
       "    <tr>\n",
       "      <th>0</th>\n",
       "      <td>1</td>\n",
       "      <td>53</td>\n",
       "      <td>746</td>\n",
       "      <td>224</td>\n",
       "      <td>2</td>\n",
       "      <td>cash</td>\n",
       "      <td>2017-03-13 12:36:56</td>\n",
       "    </tr>\n",
       "    <tr>\n",
       "      <th>1</th>\n",
       "      <td>2</td>\n",
       "      <td>92</td>\n",
       "      <td>925</td>\n",
       "      <td>90</td>\n",
       "      <td>1</td>\n",
       "      <td>cash</td>\n",
       "      <td>2017-03-03 17:38:52</td>\n",
       "    </tr>\n",
       "    <tr>\n",
       "      <th>2</th>\n",
       "      <td>3</td>\n",
       "      <td>44</td>\n",
       "      <td>861</td>\n",
       "      <td>144</td>\n",
       "      <td>1</td>\n",
       "      <td>cash</td>\n",
       "      <td>2017-03-14 4:23:56</td>\n",
       "    </tr>\n",
       "    <tr>\n",
       "      <th>3</th>\n",
       "      <td>4</td>\n",
       "      <td>18</td>\n",
       "      <td>935</td>\n",
       "      <td>156</td>\n",
       "      <td>1</td>\n",
       "      <td>credit_card</td>\n",
       "      <td>2017-03-26 12:43:37</td>\n",
       "    </tr>\n",
       "    <tr>\n",
       "      <th>4</th>\n",
       "      <td>5</td>\n",
       "      <td>18</td>\n",
       "      <td>883</td>\n",
       "      <td>156</td>\n",
       "      <td>1</td>\n",
       "      <td>credit_card</td>\n",
       "      <td>2017-03-01 4:35:11</td>\n",
       "    </tr>\n",
       "    <tr>\n",
       "      <th>...</th>\n",
       "      <td>...</td>\n",
       "      <td>...</td>\n",
       "      <td>...</td>\n",
       "      <td>...</td>\n",
       "      <td>...</td>\n",
       "      <td>...</td>\n",
       "      <td>...</td>\n",
       "    </tr>\n",
       "    <tr>\n",
       "      <th>4995</th>\n",
       "      <td>4996</td>\n",
       "      <td>73</td>\n",
       "      <td>993</td>\n",
       "      <td>330</td>\n",
       "      <td>2</td>\n",
       "      <td>debit</td>\n",
       "      <td>2017-03-30 13:47:17</td>\n",
       "    </tr>\n",
       "    <tr>\n",
       "      <th>4996</th>\n",
       "      <td>4997</td>\n",
       "      <td>48</td>\n",
       "      <td>789</td>\n",
       "      <td>234</td>\n",
       "      <td>2</td>\n",
       "      <td>cash</td>\n",
       "      <td>2017-03-16 20:36:16</td>\n",
       "    </tr>\n",
       "    <tr>\n",
       "      <th>4997</th>\n",
       "      <td>4998</td>\n",
       "      <td>56</td>\n",
       "      <td>867</td>\n",
       "      <td>351</td>\n",
       "      <td>3</td>\n",
       "      <td>cash</td>\n",
       "      <td>2017-03-19 5:42:42</td>\n",
       "    </tr>\n",
       "    <tr>\n",
       "      <th>4998</th>\n",
       "      <td>4999</td>\n",
       "      <td>60</td>\n",
       "      <td>825</td>\n",
       "      <td>354</td>\n",
       "      <td>2</td>\n",
       "      <td>credit_card</td>\n",
       "      <td>2017-03-16 14:51:18</td>\n",
       "    </tr>\n",
       "    <tr>\n",
       "      <th>4999</th>\n",
       "      <td>5000</td>\n",
       "      <td>44</td>\n",
       "      <td>734</td>\n",
       "      <td>288</td>\n",
       "      <td>2</td>\n",
       "      <td>debit</td>\n",
       "      <td>2017-03-18 15:48:18</td>\n",
       "    </tr>\n",
       "  </tbody>\n",
       "</table>\n",
       "<p>5000 rows × 7 columns</p>\n",
       "</div>"
      ],
      "text/plain": [
       "      order_id  shop_id  user_id  order_amount  total_items payment_method  \\\n",
       "0            1       53      746           224            2           cash   \n",
       "1            2       92      925            90            1           cash   \n",
       "2            3       44      861           144            1           cash   \n",
       "3            4       18      935           156            1    credit_card   \n",
       "4            5       18      883           156            1    credit_card   \n",
       "...        ...      ...      ...           ...          ...            ...   \n",
       "4995      4996       73      993           330            2          debit   \n",
       "4996      4997       48      789           234            2           cash   \n",
       "4997      4998       56      867           351            3           cash   \n",
       "4998      4999       60      825           354            2    credit_card   \n",
       "4999      5000       44      734           288            2          debit   \n",
       "\n",
       "               created_at  \n",
       "0     2017-03-13 12:36:56  \n",
       "1     2017-03-03 17:38:52  \n",
       "2      2017-03-14 4:23:56  \n",
       "3     2017-03-26 12:43:37  \n",
       "4      2017-03-01 4:35:11  \n",
       "...                   ...  \n",
       "4995  2017-03-30 13:47:17  \n",
       "4996  2017-03-16 20:36:16  \n",
       "4997   2017-03-19 5:42:42  \n",
       "4998  2017-03-16 14:51:18  \n",
       "4999  2017-03-18 15:48:18  \n",
       "\n",
       "[5000 rows x 7 columns]"
      ]
     },
     "execution_count": 2,
     "metadata": {},
     "output_type": "execute_result"
    }
   ],
   "source": [
    "sneaker_data = pd.read_csv('2019 Winter Data Science Intern Challenge Data Set - Sheet1.csv')\n",
    "sneaker_data"
   ]
  },
  {
   "cell_type": "code",
   "execution_count": 8,
   "metadata": {},
   "outputs": [
    {
     "name": "stdout",
     "output_type": "stream",
     "text": [
      "$3145.13 is the average order value that was given in the question.\n"
     ]
    }
   ],
   "source": [
    "order_amounts = np.array(sneaker_data['order_amount']) #this is a list of how much money was spent on each order\n",
    "given_AOV = np.average(order_amounts)\n",
    "print(f\"${round(given_AOV, 2)} is the average order value that was given in the question.\")"
   ]
  },
  {
   "cell_type": "markdown",
   "metadata": {},
   "source": [
    "This value simply tells us that customers tend to spend about 3145.13 in a single order. It doesn't give us any information on the average value of a sneaker. However this AOV is not a good metric for the average money spent on an order due to the existence of outliers. In the dataset, a majority of the orders are below 1000 with a few being incredibly high. Although there is only a few of these large orders, they cause this AOV metric to increase significantly. This causes the metric to seem unnecessarily higher than it should be."
   ]
  },
  {
   "cell_type": "code",
   "execution_count": 56,
   "metadata": {},
   "outputs": [
    {
     "name": "stdout",
     "output_type": "stream",
     "text": [
      "This box plot illustrates the costs of each order taking into account all the outliers. Because of the outliers, the boxplot is heavily dilated and hard to see where the median, Q1, and Q3 values are located. For us to calculate a more reasonal AOV, we must remove these outliers.\n"
     ]
    },
    {
     "data": {
      "image/png": "[encoded data removed]",
      "text/plain": [
       "<Figure size 432x288 with 1 Axes>"
      ]
     },
     "metadata": {
      "needs_background": "light"
     },
     "output_type": "display_data"
    }
   ],
   "source": [
    "#here we will try to find a better more reasonable AOV\n",
    "plt.boxplot(order_amounts);"
   ]
  },
  {
   "cell_type": "markdown",
   "metadata": {},
   "source": [
    "The box plot above isn't the best... it illustrates the costs of each order taking into account all the outliers. Because of the outliers, the boxplot is heavily dilated and hard to see where the median, Q1, and Q3 values are located. For us to calculate a more reasonal AOV, we must remove these outliers.\n"
   ]
  },
  {
   "cell_type": "code",
   "execution_count": 5,
   "metadata": {},
   "outputs": [
    {
     "name": "stdout",
     "output_type": "stream",
     "text": [
      "Q1 value: 163.0, Median: 284.0, Q3 value: 390.0, IQR: 227.0\n",
      "This boxplot illustrates the costs of each order excluding all the outliers. It is much easier to analyze and more clear when compared to the previous boxplot.\n"
     ]
    },
    {
     "data": {
      "image/png": "[encoded data removed]",
      "text/plain": [
       "<Figure size 432x288 with 1 Axes>"
      ]
     },
     "metadata": {
      "needs_background": "light"
     },
     "output_type": "display_data"
    }
   ],
   "source": [
    "order_amounts_Q1 = np.percentile(order_amounts, 25)\n",
    "order_amounts_median = np.median(order_amounts)\n",
    "order_amounts_Q3 = np.percentile(order_amounts, 75)\n",
    "interQuartileRange = order_amounts_Q3 - order_amounts_Q1\n",
    "print(f\"Q1 value: {order_amounts_Q1}, Median: {order_amounts_median}, Q3 value: {order_amounts_Q3}, IQR: {interQuartileRange}\")\n",
    "adjusted_order_amounts = [amount for amount in order_amounts if (amount < (order_amounts_Q3 + 1.5 * interQuartileRange) and amount > (order_amounts_Q1 - 1.5 * interQuartileRange))] #removes outliers\n",
    "plt.boxplot(adjusted_order_amounts);"
   ]
  },
  {
   "cell_type": "markdown",
   "metadata": {},
   "source": [
    "This boxplot is much better to look than the previous one. It illustrates the costs of each order excluding all the outliers. It is much easier to analyze and more clear when compared to the previous boxplot."
   ]
  },
  {
   "cell_type": "code",
   "execution_count": 6,
   "metadata": {},
   "outputs": [
    {
     "name": "stdout",
     "output_type": "stream",
     "text": [
      "When we calculate the AOV using the adjusted order values(no outliers), we get a more reasonable AOV of $293.72 which does not include any of the large orders.\n"
     ]
    }
   ],
   "source": [
    "adjusted_AOV = np.average(adjusted_order_amounts)\n",
    "print(f\"When we calculate the AOV using the adjusted order values(no outliers), we get a more reasonable AOV of ${round(adjusted_AOV, 2)} which does not include any of the large orders.\")"
   ]
  },
  {
   "cell_type": "markdown",
   "metadata": {},
   "source": [
    "Instead of AOV(average order value), a better metric to use for this dataset would be average sneaker value. This metric can be calculated by summing up the total amount that was spent on sneakers from all stores and dividing by the number of sneakers that were bought from all the stores. Average sneaker value is a better metric than AOV, because the average sneaker value won't be affected by large orders(the outliers we excluded) like how the AOV was affected. However, outliers in sneaker prices will affect the average sneaker value. Average sneaker value will give us a good understanding about the sneaker market on shopify while average order value will help us understand sneaker customers as it will tell us how much most of them tend to spend."
   ]
  },
  {
   "cell_type": "code",
   "execution_count": 7,
   "metadata": {},
   "outputs": [
    {
     "name": "stdout",
     "output_type": "stream",
     "text": [
      "$357.92 is the average sneaker value based on the dataset.\n"
     ]
    }
   ],
   "source": [
    "total_amounts = np.array(sneaker_data['total_items']) #this is a list of how many sneakers were bought in each order\n",
    "average_sneaker_value = np.sum(order_amounts) / np.sum(total_amounts)\n",
    "print(f\"${round(average_sneaker_value, 2)} is the average sneaker value based on the dataset.\")"
   ]
  },
  {
   "cell_type": "markdown",
   "metadata": {},
   "source": [
    "If we look at the two metrics(average sneaker price and AOV), we can see that the average order value is 293.72 while the average sneaker price is 357.92, which is noticibly higher than the AOV. It logically doesn't make sense for the average price of a sneaker to be higher than the average amount of money spent on an order. This reason for this is because the average sneaker price is not adjusted for outliers while the AOV is adjusted. There are some sneakers that are very expensive and their prices are being included in the calculation for the average sneaker value. However, most people don't buy these sneakers in their orders which is why the average order value is smaller than the average sneaker price."
   ]
  }
 ],
 "metadata": {
  "interpreter": {
   "hash": "1fe52abf450551d184c6e1e4ff3cb619e2b334cd343751150af99658eac4def1"
  },
  "kernelspec": {
   "display_name": "Python 3.8.5 ('base')",
   "language": "python",
   "name": "python3"
  },
  "language_info": {
   "codemirror_mode": {
    "name": "ipython",
    "version": 3
   },
   "file_extension": ".py",
   "mimetype": "text/x-python",
   "name": "python",
   "nbconvert_exporter": "python",
   "pygments_lexer": "ipython3",
   "version": "3.8.5"
  },
  "orig_nbformat": 4
 },
 "nbformat": 4,
 "nbformat_minor": 2
}
